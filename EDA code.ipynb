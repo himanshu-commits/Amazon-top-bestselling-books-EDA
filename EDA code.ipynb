{
 "cells": [
  {
   "cell_type": "markdown",
   "id": "c6501544",
   "metadata": {
    "papermill": {
     "duration": 0.056904,
     "end_time": "2022-05-09T07:14:00.258874",
     "exception": false,
     "start_time": "2022-05-09T07:14:00.201970",
     "status": "completed"
    },
    "tags": []
   },
   "source": [
    "# __Exploratory Data Analysis of Amazon's Top 50 Best Selling Books:__ \n",
    "### Dataset -made available by [kaggle](https://www.kaggle.com/sootersaalu) under a [CC0](https://creativecommons.org/publicdomain/zero/1.0/) license.\n",
    "\n",
    "## Introduction :\n",
    "\n",
    "### - Data about Amazon's bestselling books from 2009 to 2019, categorized into fiction and nonfiction genres, using cataloguing site __\"Goodreads\"__\n",
    "\n"
   ]
  },
  {
   "cell_type": "markdown",
   "id": "7020dc40",
   "metadata": {
    "papermill": {
     "duration": 0.05596,
     "end_time": "2022-05-09T07:14:00.371567",
     "exception": false,
     "start_time": "2022-05-09T07:14:00.315607",
     "status": "completed"
    },
    "tags": []
   },
   "source": [
    "## Importing Libraries & dataset"
   ]
  },
  {
   "cell_type": "code",
   "execution_count": 1,
   "id": "8312ae26",
   "metadata": {
    "_kg_hide-input": false,
    "execution": {
     "iopub.execute_input": "2022-05-09T07:14:00.486899Z",
     "iopub.status.busy": "2022-05-09T07:14:00.486033Z",
     "iopub.status.idle": "2022-05-09T07:14:01.828125Z",
     "shell.execute_reply": "2022-05-09T07:14:01.827196Z"
    },
    "papermill": {
     "duration": 1.402226,
     "end_time": "2022-05-09T07:14:01.830801",
     "exception": false,
     "start_time": "2022-05-09T07:14:00.428575",
     "status": "completed"
    },
    "tags": []
   },
   "outputs": [],
   "source": [
    "import numpy as np ## to work on arrays, mathematical usecase\n",
    "import pandas as pd  ## to work on dataframes viz. tables that we import from csv, json, xslx etc\n",
    "import matplotlib.pyplot as plt ## to work on visualization of data\n",
    "import seaborn as sns ## to work on visualization of data\n",
    "sns.set_style(\"darkgrid\",{\"grid.color\": \".6\", \"grid.linestyle\": \":\"})"
   ]
  },
  {
   "cell_type": "code",
   "execution_count": 2,
   "id": "38c72019",
   "metadata": {},
   "outputs": [
    {
     "data": {
      "text/plain": [
       "'C:\\\\Users\\\\New User\\\\Desktop\\\\projects\\\\EDA-On-Amazon-Books'"
      ]
     },
     "execution_count": 2,
     "metadata": {},
     "output_type": "execute_result"
    }
   ],
   "source": [
    "pwd"
   ]
  },
  {
   "cell_type": "code",
   "execution_count": 3,
   "id": "e586e97f",
   "metadata": {
    "_kg_hide-input": true,
    "execution": {
     "iopub.execute_input": "2022-05-09T07:14:01.948290Z",
     "iopub.status.busy": "2022-05-09T07:14:01.947976Z",
     "iopub.status.idle": "2022-05-09T07:14:01.976585Z",
     "shell.execute_reply": "2022-05-09T07:14:01.975836Z"
    },
    "papermill": {
     "duration": 0.089594,
     "end_time": "2022-05-09T07:14:01.979027",
     "exception": false,
     "start_time": "2022-05-09T07:14:01.889433",
     "status": "completed"
    },
    "tags": []
   },
   "outputs": [],
   "source": [
    "df = pd.read_csv('./bestsellers with categories.csv')"
   ]
  },
  {
   "cell_type": "markdown",
   "id": "1fb8861c",
   "metadata": {
    "papermill": {
     "duration": 0.061675,
     "end_time": "2022-05-09T07:14:02.096928",
     "exception": false,
     "start_time": "2022-05-09T07:14:02.035253",
     "status": "completed"
    },
    "tags": []
   },
   "source": [
    "## Understanding the dataset:"
   ]
  },
  {
   "cell_type": "code",
   "execution_count": 4,
   "id": "f698b2ad",
   "metadata": {
    "_kg_hide-input": true,
    "execution": {
     "iopub.execute_input": "2022-05-09T07:14:02.215932Z",
     "iopub.status.busy": "2022-05-09T07:14:02.215591Z",
     "iopub.status.idle": "2022-05-09T07:14:02.246202Z",
     "shell.execute_reply": "2022-05-09T07:14:02.244960Z"
    },
    "papermill": {
     "duration": 0.092781,
     "end_time": "2022-05-09T07:14:02.248685",
     "exception": false,
     "start_time": "2022-05-09T07:14:02.155904",
     "status": "completed"
    },
    "tags": []
   },
   "outputs": [
    {
     "name": "stdout",
     "output_type": "stream",
     "text": [
      "<class 'pandas.core.frame.DataFrame'>\n",
      "RangeIndex: 550 entries, 0 to 549\n",
      "Data columns (total 7 columns):\n",
      " #   Column       Non-Null Count  Dtype  \n",
      "---  ------       --------------  -----  \n",
      " 0   Name         550 non-null    object \n",
      " 1   Author       550 non-null    object \n",
      " 2   User Rating  550 non-null    float64\n",
      " 3   Reviews      550 non-null    int64  \n",
      " 4   Price        550 non-null    int64  \n",
      " 5   Year         550 non-null    int64  \n",
      " 6   Genre        550 non-null    object \n",
      "dtypes: float64(1), int64(3), object(3)\n",
      "memory usage: 30.2+ KB\n"
     ]
    }
   ],
   "source": [
    "df.info()"
   ]
  },
  {
   "cell_type": "code",
   "execution_count": 5,
   "id": "7b2f076f",
   "metadata": {
    "execution": {
     "iopub.execute_input": "2022-05-09T07:14:02.364513Z",
     "iopub.status.busy": "2022-05-09T07:14:02.364234Z",
     "iopub.status.idle": "2022-05-09T07:14:02.371402Z",
     "shell.execute_reply": "2022-05-09T07:14:02.370767Z"
    },
    "papermill": {
     "duration": 0.068503,
     "end_time": "2022-05-09T07:14:02.374162",
     "exception": false,
     "start_time": "2022-05-09T07:14:02.305659",
     "status": "completed"
    },
    "tags": []
   },
   "outputs": [
    {
     "data": {
      "text/plain": [
       "(550, 7)"
      ]
     },
     "execution_count": 5,
     "metadata": {},
     "output_type": "execute_result"
    }
   ],
   "source": [
    "df.shape"
   ]
  },
  {
   "cell_type": "code",
   "execution_count": 7,
   "id": "7ee2d7bf",
   "metadata": {
    "_kg_hide-input": true,
    "execution": {
     "iopub.execute_input": "2022-05-09T07:14:02.490262Z",
     "iopub.status.busy": "2022-05-09T07:14:02.489363Z",
     "iopub.status.idle": "2022-05-09T07:14:02.506943Z",
     "shell.execute_reply": "2022-05-09T07:14:02.506286Z"
    },
    "papermill": {
     "duration": 0.078445,
     "end_time": "2022-05-09T07:14:02.509151",
     "exception": false,
     "start_time": "2022-05-09T07:14:02.430706",
     "status": "completed"
    },
    "tags": []
   },
   "outputs": [
    {
     "data": {
      "text/html": [
       "<div>\n",
       "<style scoped>\n",
       "    .dataframe tbody tr th:only-of-type {\n",
       "        vertical-align: middle;\n",
       "    }\n",
       "\n",
       "    .dataframe tbody tr th {\n",
       "        vertical-align: top;\n",
       "    }\n",
       "\n",
       "    .dataframe thead th {\n",
       "        text-align: right;\n",
       "    }\n",
       "</style>\n",
       "<table border=\"1\" class=\"dataframe\">\n",
       "  <thead>\n",
       "    <tr style=\"text-align: right;\">\n",
       "      <th></th>\n",
       "      <th>Name</th>\n",
       "      <th>Author</th>\n",
       "      <th>User Rating</th>\n",
       "      <th>Reviews</th>\n",
       "      <th>Price</th>\n",
       "      <th>Year</th>\n",
       "      <th>Genre</th>\n",
       "    </tr>\n",
       "  </thead>\n",
       "  <tbody>\n",
       "    <tr>\n",
       "      <th>0</th>\n",
       "      <td>10-Day Green Smoothie Cleanse</td>\n",
       "      <td>JJ Smith</td>\n",
       "      <td>4.7</td>\n",
       "      <td>17350</td>\n",
       "      <td>8</td>\n",
       "      <td>2016</td>\n",
       "      <td>Non Fiction</td>\n",
       "    </tr>\n",
       "    <tr>\n",
       "      <th>1</th>\n",
       "      <td>11/22/63: A Novel</td>\n",
       "      <td>Stephen King</td>\n",
       "      <td>4.6</td>\n",
       "      <td>2052</td>\n",
       "      <td>22</td>\n",
       "      <td>2011</td>\n",
       "      <td>Fiction</td>\n",
       "    </tr>\n",
       "    <tr>\n",
       "      <th>2</th>\n",
       "      <td>12 Rules for Life: An Antidote to Chaos</td>\n",
       "      <td>Jordan B. Peterson</td>\n",
       "      <td>4.7</td>\n",
       "      <td>18979</td>\n",
       "      <td>15</td>\n",
       "      <td>2018</td>\n",
       "      <td>Non Fiction</td>\n",
       "    </tr>\n",
       "    <tr>\n",
       "      <th>3</th>\n",
       "      <td>1984 (Signet Classics)</td>\n",
       "      <td>George Orwell</td>\n",
       "      <td>4.7</td>\n",
       "      <td>21424</td>\n",
       "      <td>6</td>\n",
       "      <td>2017</td>\n",
       "      <td>Fiction</td>\n",
       "    </tr>\n",
       "    <tr>\n",
       "      <th>4</th>\n",
       "      <td>5,000 Awesome Facts (About Everything!) (Natio...</td>\n",
       "      <td>National Geographic Kids</td>\n",
       "      <td>4.8</td>\n",
       "      <td>7665</td>\n",
       "      <td>12</td>\n",
       "      <td>2019</td>\n",
       "      <td>Non Fiction</td>\n",
       "    </tr>\n",
       "    <tr>\n",
       "      <th>5</th>\n",
       "      <td>A Dance with Dragons (A Song of Ice and Fire)</td>\n",
       "      <td>George R. R. Martin</td>\n",
       "      <td>4.4</td>\n",
       "      <td>12643</td>\n",
       "      <td>11</td>\n",
       "      <td>2011</td>\n",
       "      <td>Fiction</td>\n",
       "    </tr>\n",
       "    <tr>\n",
       "      <th>6</th>\n",
       "      <td>A Game of Thrones / A Clash of Kings / A Storm...</td>\n",
       "      <td>George R. R. Martin</td>\n",
       "      <td>4.7</td>\n",
       "      <td>19735</td>\n",
       "      <td>30</td>\n",
       "      <td>2014</td>\n",
       "      <td>Fiction</td>\n",
       "    </tr>\n",
       "    <tr>\n",
       "      <th>7</th>\n",
       "      <td>A Gentleman in Moscow: A Novel</td>\n",
       "      <td>Amor Towles</td>\n",
       "      <td>4.7</td>\n",
       "      <td>19699</td>\n",
       "      <td>15</td>\n",
       "      <td>2017</td>\n",
       "      <td>Fiction</td>\n",
       "    </tr>\n",
       "    <tr>\n",
       "      <th>8</th>\n",
       "      <td>A Higher Loyalty: Truth, Lies, and Leadership</td>\n",
       "      <td>James Comey</td>\n",
       "      <td>4.7</td>\n",
       "      <td>5983</td>\n",
       "      <td>3</td>\n",
       "      <td>2018</td>\n",
       "      <td>Non Fiction</td>\n",
       "    </tr>\n",
       "    <tr>\n",
       "      <th>9</th>\n",
       "      <td>A Man Called Ove: A Novel</td>\n",
       "      <td>Fredrik Backman</td>\n",
       "      <td>4.6</td>\n",
       "      <td>23848</td>\n",
       "      <td>8</td>\n",
       "      <td>2016</td>\n",
       "      <td>Fiction</td>\n",
       "    </tr>\n",
       "  </tbody>\n",
       "</table>\n",
       "</div>"
      ],
      "text/plain": [
       "                                                Name  \\\n",
       "0                      10-Day Green Smoothie Cleanse   \n",
       "1                                  11/22/63: A Novel   \n",
       "2            12 Rules for Life: An Antidote to Chaos   \n",
       "3                             1984 (Signet Classics)   \n",
       "4  5,000 Awesome Facts (About Everything!) (Natio...   \n",
       "5      A Dance with Dragons (A Song of Ice and Fire)   \n",
       "6  A Game of Thrones / A Clash of Kings / A Storm...   \n",
       "7                     A Gentleman in Moscow: A Novel   \n",
       "8      A Higher Loyalty: Truth, Lies, and Leadership   \n",
       "9                          A Man Called Ove: A Novel   \n",
       "\n",
       "                     Author  User Rating  Reviews  Price  Year        Genre  \n",
       "0                  JJ Smith          4.7    17350      8  2016  Non Fiction  \n",
       "1              Stephen King          4.6     2052     22  2011      Fiction  \n",
       "2        Jordan B. Peterson          4.7    18979     15  2018  Non Fiction  \n",
       "3             George Orwell          4.7    21424      6  2017      Fiction  \n",
       "4  National Geographic Kids          4.8     7665     12  2019  Non Fiction  \n",
       "5       George R. R. Martin          4.4    12643     11  2011      Fiction  \n",
       "6       George R. R. Martin          4.7    19735     30  2014      Fiction  \n",
       "7               Amor Towles          4.7    19699     15  2017      Fiction  \n",
       "8               James Comey          4.7     5983      3  2018  Non Fiction  \n",
       "9           Fredrik Backman          4.6    23848      8  2016      Fiction  "
      ]
     },
     "execution_count": 7,
     "metadata": {},
     "output_type": "execute_result"
    }
   ],
   "source": [
    "df.head(10)"
   ]
  },
  {
   "cell_type": "code",
   "execution_count": 8,
   "id": "c5a8e017",
   "metadata": {},
   "outputs": [
    {
     "data": {
      "text/html": [
       "<div>\n",
       "<style scoped>\n",
       "    .dataframe tbody tr th:only-of-type {\n",
       "        vertical-align: middle;\n",
       "    }\n",
       "\n",
       "    .dataframe tbody tr th {\n",
       "        vertical-align: top;\n",
       "    }\n",
       "\n",
       "    .dataframe thead th {\n",
       "        text-align: right;\n",
       "    }\n",
       "</style>\n",
       "<table border=\"1\" class=\"dataframe\">\n",
       "  <thead>\n",
       "    <tr style=\"text-align: right;\">\n",
       "      <th></th>\n",
       "      <th>Name</th>\n",
       "      <th>Author</th>\n",
       "      <th>User Rating</th>\n",
       "      <th>Reviews</th>\n",
       "      <th>Price</th>\n",
       "      <th>Year</th>\n",
       "      <th>Genre</th>\n",
       "    </tr>\n",
       "  </thead>\n",
       "  <tbody>\n",
       "    <tr>\n",
       "      <th>545</th>\n",
       "      <td>Wrecking Ball (Diary of a Wimpy Kid Book 14)</td>\n",
       "      <td>Jeff Kinney</td>\n",
       "      <td>4.9</td>\n",
       "      <td>9413</td>\n",
       "      <td>8</td>\n",
       "      <td>2019</td>\n",
       "      <td>Fiction</td>\n",
       "    </tr>\n",
       "    <tr>\n",
       "      <th>546</th>\n",
       "      <td>You Are a Badass: How to Stop Doubting Your Gr...</td>\n",
       "      <td>Jen Sincero</td>\n",
       "      <td>4.7</td>\n",
       "      <td>14331</td>\n",
       "      <td>8</td>\n",
       "      <td>2016</td>\n",
       "      <td>Non Fiction</td>\n",
       "    </tr>\n",
       "    <tr>\n",
       "      <th>547</th>\n",
       "      <td>You Are a Badass: How to Stop Doubting Your Gr...</td>\n",
       "      <td>Jen Sincero</td>\n",
       "      <td>4.7</td>\n",
       "      <td>14331</td>\n",
       "      <td>8</td>\n",
       "      <td>2017</td>\n",
       "      <td>Non Fiction</td>\n",
       "    </tr>\n",
       "    <tr>\n",
       "      <th>548</th>\n",
       "      <td>You Are a Badass: How to Stop Doubting Your Gr...</td>\n",
       "      <td>Jen Sincero</td>\n",
       "      <td>4.7</td>\n",
       "      <td>14331</td>\n",
       "      <td>8</td>\n",
       "      <td>2018</td>\n",
       "      <td>Non Fiction</td>\n",
       "    </tr>\n",
       "    <tr>\n",
       "      <th>549</th>\n",
       "      <td>You Are a Badass: How to Stop Doubting Your Gr...</td>\n",
       "      <td>Jen Sincero</td>\n",
       "      <td>4.7</td>\n",
       "      <td>14331</td>\n",
       "      <td>8</td>\n",
       "      <td>2019</td>\n",
       "      <td>Non Fiction</td>\n",
       "    </tr>\n",
       "  </tbody>\n",
       "</table>\n",
       "</div>"
      ],
      "text/plain": [
       "                                                  Name       Author  \\\n",
       "545       Wrecking Ball (Diary of a Wimpy Kid Book 14)  Jeff Kinney   \n",
       "546  You Are a Badass: How to Stop Doubting Your Gr...  Jen Sincero   \n",
       "547  You Are a Badass: How to Stop Doubting Your Gr...  Jen Sincero   \n",
       "548  You Are a Badass: How to Stop Doubting Your Gr...  Jen Sincero   \n",
       "549  You Are a Badass: How to Stop Doubting Your Gr...  Jen Sincero   \n",
       "\n",
       "     User Rating  Reviews  Price  Year        Genre  \n",
       "545          4.9     9413      8  2019      Fiction  \n",
       "546          4.7    14331      8  2016  Non Fiction  \n",
       "547          4.7    14331      8  2017  Non Fiction  \n",
       "548          4.7    14331      8  2018  Non Fiction  \n",
       "549          4.7    14331      8  2019  Non Fiction  "
      ]
     },
     "execution_count": 8,
     "metadata": {},
     "output_type": "execute_result"
    }
   ],
   "source": [
    "df.tail()"
   ]
  },
  {
   "cell_type": "code",
   "execution_count": 9,
   "id": "cd214335",
   "metadata": {
    "_kg_hide-input": true,
    "execution": {
     "iopub.execute_input": "2022-05-09T07:14:02.628044Z",
     "iopub.status.busy": "2022-05-09T07:14:02.627722Z",
     "iopub.status.idle": "2022-05-09T07:14:02.634264Z",
     "shell.execute_reply": "2022-05-09T07:14:02.633163Z"
    },
    "papermill": {
     "duration": 0.067927,
     "end_time": "2022-05-09T07:14:02.636562",
     "exception": false,
     "start_time": "2022-05-09T07:14:02.568635",
     "status": "completed"
    },
    "tags": []
   },
   "outputs": [
    {
     "data": {
      "text/plain": [
       "Index(['Name', 'Author', 'User Rating', 'Reviews', 'Price', 'Year', 'Genre'], dtype='object')"
      ]
     },
     "execution_count": 9,
     "metadata": {},
     "output_type": "execute_result"
    }
   ],
   "source": [
    "df.columns"
   ]
  },
  {
   "cell_type": "markdown",
   "id": "51b3e614",
   "metadata": {
    "papermill": {
     "duration": 0.061667,
     "end_time": "2022-05-09T07:14:02.761934",
     "exception": false,
     "start_time": "2022-05-09T07:14:02.700267",
     "status": "completed"
    },
    "tags": []
   },
   "source": [
    "## Numerical Data "
   ]
  },
  {
   "cell_type": "code",
   "execution_count": 10,
   "id": "9b8c92a1",
   "metadata": {
    "execution": {
     "iopub.execute_input": "2022-05-09T07:14:02.885073Z",
     "iopub.status.busy": "2022-05-09T07:14:02.884742Z",
     "iopub.status.idle": "2022-05-09T07:14:02.913200Z",
     "shell.execute_reply": "2022-05-09T07:14:02.912456Z"
    },
    "papermill": {
     "duration": 0.091446,
     "end_time": "2022-05-09T07:14:02.915166",
     "exception": false,
     "start_time": "2022-05-09T07:14:02.823720",
     "status": "completed"
    },
    "tags": []
   },
   "outputs": [
    {
     "data": {
      "text/html": [
       "<div>\n",
       "<style scoped>\n",
       "    .dataframe tbody tr th:only-of-type {\n",
       "        vertical-align: middle;\n",
       "    }\n",
       "\n",
       "    .dataframe tbody tr th {\n",
       "        vertical-align: top;\n",
       "    }\n",
       "\n",
       "    .dataframe thead th {\n",
       "        text-align: right;\n",
       "    }\n",
       "</style>\n",
       "<table border=\"1\" class=\"dataframe\">\n",
       "  <thead>\n",
       "    <tr style=\"text-align: right;\">\n",
       "      <th></th>\n",
       "      <th>User Rating</th>\n",
       "      <th>Reviews</th>\n",
       "      <th>Price</th>\n",
       "      <th>Year</th>\n",
       "    </tr>\n",
       "  </thead>\n",
       "  <tbody>\n",
       "    <tr>\n",
       "      <th>count</th>\n",
       "      <td>550.000000</td>\n",
       "      <td>550.000000</td>\n",
       "      <td>550.000000</td>\n",
       "      <td>550.000000</td>\n",
       "    </tr>\n",
       "    <tr>\n",
       "      <th>mean</th>\n",
       "      <td>4.618364</td>\n",
       "      <td>11953.281818</td>\n",
       "      <td>13.100000</td>\n",
       "      <td>2014.000000</td>\n",
       "    </tr>\n",
       "    <tr>\n",
       "      <th>std</th>\n",
       "      <td>0.226980</td>\n",
       "      <td>11731.132017</td>\n",
       "      <td>10.842262</td>\n",
       "      <td>3.165156</td>\n",
       "    </tr>\n",
       "    <tr>\n",
       "      <th>min</th>\n",
       "      <td>3.300000</td>\n",
       "      <td>37.000000</td>\n",
       "      <td>0.000000</td>\n",
       "      <td>2009.000000</td>\n",
       "    </tr>\n",
       "    <tr>\n",
       "      <th>25%</th>\n",
       "      <td>4.500000</td>\n",
       "      <td>4058.000000</td>\n",
       "      <td>7.000000</td>\n",
       "      <td>2011.000000</td>\n",
       "    </tr>\n",
       "    <tr>\n",
       "      <th>50%</th>\n",
       "      <td>4.700000</td>\n",
       "      <td>8580.000000</td>\n",
       "      <td>11.000000</td>\n",
       "      <td>2014.000000</td>\n",
       "    </tr>\n",
       "    <tr>\n",
       "      <th>75%</th>\n",
       "      <td>4.800000</td>\n",
       "      <td>17253.250000</td>\n",
       "      <td>16.000000</td>\n",
       "      <td>2017.000000</td>\n",
       "    </tr>\n",
       "    <tr>\n",
       "      <th>max</th>\n",
       "      <td>4.900000</td>\n",
       "      <td>87841.000000</td>\n",
       "      <td>105.000000</td>\n",
       "      <td>2019.000000</td>\n",
       "    </tr>\n",
       "  </tbody>\n",
       "</table>\n",
       "</div>"
      ],
      "text/plain": [
       "       User Rating       Reviews       Price         Year\n",
       "count   550.000000    550.000000  550.000000   550.000000\n",
       "mean      4.618364  11953.281818   13.100000  2014.000000\n",
       "std       0.226980  11731.132017   10.842262     3.165156\n",
       "min       3.300000     37.000000    0.000000  2009.000000\n",
       "25%       4.500000   4058.000000    7.000000  2011.000000\n",
       "50%       4.700000   8580.000000   11.000000  2014.000000\n",
       "75%       4.800000  17253.250000   16.000000  2017.000000\n",
       "max       4.900000  87841.000000  105.000000  2019.000000"
      ]
     },
     "execution_count": 10,
     "metadata": {},
     "output_type": "execute_result"
    }
   ],
   "source": [
    "df.describe()"
   ]
  },
  {
   "cell_type": "markdown",
   "id": "74e9de26",
   "metadata": {
    "papermill": {
     "duration": 0.058817,
     "end_time": "2022-05-09T07:14:03.033348",
     "exception": false,
     "start_time": "2022-05-09T07:14:02.974531",
     "status": "completed"
    },
    "tags": []
   },
   "source": [
    "## Categorical Data "
   ]
  },
  {
   "cell_type": "code",
   "execution_count": 11,
   "id": "273510a4",
   "metadata": {
    "_kg_hide-input": true,
    "execution": {
     "iopub.execute_input": "2022-05-09T07:14:03.176169Z",
     "iopub.status.busy": "2022-05-09T07:14:03.175843Z",
     "iopub.status.idle": "2022-05-09T07:14:03.196647Z",
     "shell.execute_reply": "2022-05-09T07:14:03.195654Z"
    },
    "papermill": {
     "duration": 0.097795,
     "end_time": "2022-05-09T07:14:03.199217",
     "exception": false,
     "start_time": "2022-05-09T07:14:03.101422",
     "status": "completed"
    },
    "tags": []
   },
   "outputs": [
    {
     "data": {
      "text/html": [
       "<div>\n",
       "<style scoped>\n",
       "    .dataframe tbody tr th:only-of-type {\n",
       "        vertical-align: middle;\n",
       "    }\n",
       "\n",
       "    .dataframe tbody tr th {\n",
       "        vertical-align: top;\n",
       "    }\n",
       "\n",
       "    .dataframe thead th {\n",
       "        text-align: right;\n",
       "    }\n",
       "</style>\n",
       "<table border=\"1\" class=\"dataframe\">\n",
       "  <thead>\n",
       "    <tr style=\"text-align: right;\">\n",
       "      <th></th>\n",
       "      <th>count</th>\n",
       "      <th>unique</th>\n",
       "      <th>top</th>\n",
       "      <th>freq</th>\n",
       "    </tr>\n",
       "  </thead>\n",
       "  <tbody>\n",
       "    <tr>\n",
       "      <th>Name</th>\n",
       "      <td>550</td>\n",
       "      <td>351</td>\n",
       "      <td>Publication Manual of the American Psychologic...</td>\n",
       "      <td>10</td>\n",
       "    </tr>\n",
       "    <tr>\n",
       "      <th>Author</th>\n",
       "      <td>550</td>\n",
       "      <td>248</td>\n",
       "      <td>Jeff Kinney</td>\n",
       "      <td>12</td>\n",
       "    </tr>\n",
       "    <tr>\n",
       "      <th>Genre</th>\n",
       "      <td>550</td>\n",
       "      <td>2</td>\n",
       "      <td>Non Fiction</td>\n",
       "      <td>310</td>\n",
       "    </tr>\n",
       "  </tbody>\n",
       "</table>\n",
       "</div>"
      ],
      "text/plain": [
       "       count unique                                                top freq\n",
       "Name     550    351  Publication Manual of the American Psychologic...   10\n",
       "Author   550    248                                        Jeff Kinney   12\n",
       "Genre    550      2                                        Non Fiction  310"
      ]
     },
     "execution_count": 11,
     "metadata": {},
     "output_type": "execute_result"
    }
   ],
   "source": [
    "df.describe(include=\"object\").transpose()"
   ]
  },
  {
   "cell_type": "markdown",
   "id": "c82edc70",
   "metadata": {
    "papermill": {
     "duration": 0.058934,
     "end_time": "2022-05-09T07:14:03.317652",
     "exception": false,
     "start_time": "2022-05-09T07:14:03.258718",
     "status": "completed"
    },
    "tags": []
   },
   "source": [
    "## Null Values"
   ]
  },
  {
   "cell_type": "code",
   "execution_count": 12,
   "id": "7414036e",
   "metadata": {
    "_kg_hide-input": true,
    "execution": {
     "iopub.execute_input": "2022-05-09T07:14:03.467618Z",
     "iopub.status.busy": "2022-05-09T07:14:03.467325Z",
     "iopub.status.idle": "2022-05-09T07:14:03.477572Z",
     "shell.execute_reply": "2022-05-09T07:14:03.476627Z"
    },
    "papermill": {
     "duration": 0.088321,
     "end_time": "2022-05-09T07:14:03.479820",
     "exception": false,
     "start_time": "2022-05-09T07:14:03.391499",
     "status": "completed"
    },
    "tags": []
   },
   "outputs": [
    {
     "data": {
      "text/plain": [
       "Name           0\n",
       "Author         0\n",
       "User Rating    0\n",
       "Reviews        0\n",
       "Price          0\n",
       "Year           0\n",
       "Genre          0\n",
       "dtype: int64"
      ]
     },
     "execution_count": 12,
     "metadata": {},
     "output_type": "execute_result"
    }
   ],
   "source": [
    "df.isnull().sum()"
   ]
  },
  {
   "cell_type": "code",
   "execution_count": 14,
   "id": "3e4307f7",
   "metadata": {
    "execution": {
     "iopub.execute_input": "2022-05-09T07:14:03.602539Z",
     "iopub.status.busy": "2022-05-09T07:14:03.602249Z",
     "iopub.status.idle": "2022-05-09T07:14:03.608040Z",
     "shell.execute_reply": "2022-05-09T07:14:03.607353Z"
    },
    "papermill": {
     "duration": 0.071657,
     "end_time": "2022-05-09T07:14:03.610798",
     "exception": false,
     "start_time": "2022-05-09T07:14:03.539141",
     "status": "completed"
    },
    "tags": []
   },
   "outputs": [
    {
     "data": {
      "text/plain": [
       "11953.281818181818"
      ]
     },
     "execution_count": 14,
     "metadata": {},
     "output_type": "execute_result"
    }
   ],
   "source": [
    "df[\"Reviews\"].mean()"
   ]
  },
  {
   "cell_type": "code",
   "execution_count": 16,
   "id": "aad8732e",
   "metadata": {
    "execution": {
     "iopub.execute_input": "2022-05-09T07:14:03.732388Z",
     "iopub.status.busy": "2022-05-09T07:14:03.732071Z",
     "iopub.status.idle": "2022-05-09T07:14:03.744460Z",
     "shell.execute_reply": "2022-05-09T07:14:03.742988Z"
    },
    "papermill": {
     "duration": 0.076745,
     "end_time": "2022-05-09T07:14:03.747877",
     "exception": false,
     "start_time": "2022-05-09T07:14:03.671132",
     "status": "completed"
    },
    "tags": []
   },
   "outputs": [
    {
     "name": "stdout",
     "output_type": "stream",
     "text": [
      "[2016 2011 2018 2017 2019 2014 2010 2009 2015 2013 2012]\n",
      "count    550.0\n",
      "min        0.0\n",
      "max      105.0\n",
      "Name: Price, dtype: float64\n"
     ]
    }
   ],
   "source": [
    "print(df[\"Year\"].unique())\n",
    "print(df[\"Price\"].describe().loc[[\"count\",\"min\",\"max\"]])"
   ]
  },
  {
   "cell_type": "markdown",
   "id": "ffa87ee2",
   "metadata": {
    "papermill": {
     "duration": 0.061507,
     "end_time": "2022-05-09T07:14:03.870475",
     "exception": false,
     "start_time": "2022-05-09T07:14:03.808968",
     "status": "completed"
    },
    "tags": []
   },
   "source": [
    "### Books with price >= 100 USD"
   ]
  },
  {
   "cell_type": "code",
   "execution_count": 17,
   "id": "b2ccf934",
   "metadata": {
    "execution": {
     "iopub.execute_input": "2022-05-09T07:14:03.995002Z",
     "iopub.status.busy": "2022-05-09T07:14:03.994326Z",
     "iopub.status.idle": "2022-05-09T07:14:04.007952Z",
     "shell.execute_reply": "2022-05-09T07:14:04.006989Z"
    },
    "papermill": {
     "duration": 0.079191,
     "end_time": "2022-05-09T07:14:04.011087",
     "exception": false,
     "start_time": "2022-05-09T07:14:03.931896",
     "status": "completed"
    },
    "tags": []
   },
   "outputs": [
    {
     "data": {
      "text/html": [
       "<div>\n",
       "<style scoped>\n",
       "    .dataframe tbody tr th:only-of-type {\n",
       "        vertical-align: middle;\n",
       "    }\n",
       "\n",
       "    .dataframe tbody tr th {\n",
       "        vertical-align: top;\n",
       "    }\n",
       "\n",
       "    .dataframe thead th {\n",
       "        text-align: right;\n",
       "    }\n",
       "</style>\n",
       "<table border=\"1\" class=\"dataframe\">\n",
       "  <thead>\n",
       "    <tr style=\"text-align: right;\">\n",
       "      <th></th>\n",
       "      <th>Name</th>\n",
       "      <th>Author</th>\n",
       "      <th>Price</th>\n",
       "    </tr>\n",
       "  </thead>\n",
       "  <tbody>\n",
       "    <tr>\n",
       "      <th>69</th>\n",
       "      <td>Diagnostic and Statistical Manual of Mental Di...</td>\n",
       "      <td>American Psychiatric Association</td>\n",
       "      <td>105</td>\n",
       "    </tr>\n",
       "  </tbody>\n",
       "</table>\n",
       "</div>"
      ],
      "text/plain": [
       "                                                 Name  \\\n",
       "69  Diagnostic and Statistical Manual of Mental Di...   \n",
       "\n",
       "                              Author  Price  \n",
       "69  American Psychiatric Association    105  "
      ]
     },
     "execution_count": 17,
     "metadata": {},
     "output_type": "execute_result"
    }
   ],
   "source": [
    "df[df[\"Price\"]>=100][[\"Name\",\"Author\", \"Price\"]].drop_duplicates()"
   ]
  },
  {
   "cell_type": "markdown",
   "id": "a1bba7d8",
   "metadata": {
    "papermill": {
     "duration": 0.060772,
     "end_time": "2022-05-09T07:14:04.132993",
     "exception": false,
     "start_time": "2022-05-09T07:14:04.072221",
     "status": "completed"
    },
    "tags": []
   },
   "source": [
    "### Books with price = 0 USD"
   ]
  },
  {
   "cell_type": "code",
   "execution_count": 18,
   "id": "31c8cc47",
   "metadata": {
    "execution": {
     "iopub.execute_input": "2022-05-09T07:14:04.256017Z",
     "iopub.status.busy": "2022-05-09T07:14:04.255420Z",
     "iopub.status.idle": "2022-05-09T07:14:04.269117Z",
     "shell.execute_reply": "2022-05-09T07:14:04.268422Z"
    },
    "papermill": {
     "duration": 0.077378,
     "end_time": "2022-05-09T07:14:04.271018",
     "exception": false,
     "start_time": "2022-05-09T07:14:04.193640",
     "status": "completed"
    },
    "tags": []
   },
   "outputs": [
    {
     "data": {
      "text/html": [
       "<div>\n",
       "<style scoped>\n",
       "    .dataframe tbody tr th:only-of-type {\n",
       "        vertical-align: middle;\n",
       "    }\n",
       "\n",
       "    .dataframe tbody tr th {\n",
       "        vertical-align: top;\n",
       "    }\n",
       "\n",
       "    .dataframe thead th {\n",
       "        text-align: right;\n",
       "    }\n",
       "</style>\n",
       "<table border=\"1\" class=\"dataframe\">\n",
       "  <thead>\n",
       "    <tr style=\"text-align: right;\">\n",
       "      <th></th>\n",
       "      <th>Name</th>\n",
       "      <th>Author</th>\n",
       "      <th>Price</th>\n",
       "    </tr>\n",
       "  </thead>\n",
       "  <tbody>\n",
       "    <tr>\n",
       "      <th>42</th>\n",
       "      <td>Cabin Fever (Diary of a Wimpy Kid, Book 6)</td>\n",
       "      <td>Jeff Kinney</td>\n",
       "      <td>0</td>\n",
       "    </tr>\n",
       "    <tr>\n",
       "      <th>71</th>\n",
       "      <td>Diary of a Wimpy Kid: Hard Luck, Book 8</td>\n",
       "      <td>Jeff Kinney</td>\n",
       "      <td>0</td>\n",
       "    </tr>\n",
       "    <tr>\n",
       "      <th>116</th>\n",
       "      <td>Frozen (Little Golden Book)</td>\n",
       "      <td>RH Disney</td>\n",
       "      <td>0</td>\n",
       "    </tr>\n",
       "    <tr>\n",
       "      <th>193</th>\n",
       "      <td>JOURNEY TO THE ICE P</td>\n",
       "      <td>RH Disney</td>\n",
       "      <td>0</td>\n",
       "    </tr>\n",
       "    <tr>\n",
       "      <th>219</th>\n",
       "      <td>Little Blue Truck</td>\n",
       "      <td>Alice Schertle</td>\n",
       "      <td>0</td>\n",
       "    </tr>\n",
       "    <tr>\n",
       "      <th>358</th>\n",
       "      <td>The Constitution of the United States</td>\n",
       "      <td>Delegates of the Constitutional</td>\n",
       "      <td>0</td>\n",
       "    </tr>\n",
       "    <tr>\n",
       "      <th>381</th>\n",
       "      <td>The Getaway</td>\n",
       "      <td>Jeff Kinney</td>\n",
       "      <td>0</td>\n",
       "    </tr>\n",
       "    <tr>\n",
       "      <th>461</th>\n",
       "      <td>The Short Second Life of Bree Tanner: An Eclip...</td>\n",
       "      <td>Stephenie Meyer</td>\n",
       "      <td>0</td>\n",
       "    </tr>\n",
       "    <tr>\n",
       "      <th>505</th>\n",
       "      <td>To Kill a Mockingbird</td>\n",
       "      <td>Harper Lee</td>\n",
       "      <td>0</td>\n",
       "    </tr>\n",
       "  </tbody>\n",
       "</table>\n",
       "</div>"
      ],
      "text/plain": [
       "                                                  Name  \\\n",
       "42          Cabin Fever (Diary of a Wimpy Kid, Book 6)   \n",
       "71             Diary of a Wimpy Kid: Hard Luck, Book 8   \n",
       "116                        Frozen (Little Golden Book)   \n",
       "193                               JOURNEY TO THE ICE P   \n",
       "219                                  Little Blue Truck   \n",
       "358              The Constitution of the United States   \n",
       "381                                        The Getaway   \n",
       "461  The Short Second Life of Bree Tanner: An Eclip...   \n",
       "505                              To Kill a Mockingbird   \n",
       "\n",
       "                               Author  Price  \n",
       "42                        Jeff Kinney      0  \n",
       "71                        Jeff Kinney      0  \n",
       "116                         RH Disney      0  \n",
       "193                         RH Disney      0  \n",
       "219                    Alice Schertle      0  \n",
       "358  Delegates of the Constitutional\n",
       "      0  \n",
       "381                       Jeff Kinney      0  \n",
       "461                   Stephenie Meyer      0  \n",
       "505                        Harper Lee      0  "
      ]
     },
     "execution_count": 18,
     "metadata": {},
     "output_type": "execute_result"
    }
   ],
   "source": [
    "df[df[\"Price\"]==0][[\"Name\",\"Author\", \"Price\"]].drop_duplicates()"
   ]
  },
  {
   "cell_type": "markdown",
   "id": "ffbedfb8",
   "metadata": {
    "papermill": {
     "duration": 0.06064,
     "end_time": "2022-05-09T07:14:04.392870",
     "exception": false,
     "start_time": "2022-05-09T07:14:04.332230",
     "status": "completed"
    },
    "tags": []
   },
   "source": [
    "## Dataset summary:\n",
    "\n",
    "* **There are 550 Rows and 7 columns in the dataset.**\n",
    "* **Data Dictionary**\n",
    "   - *Name*   - name of the bestselling book (datatype - object)\n",
    "   - *Author* - author of the bestselling book (datatype - object)\n",
    "   - *User Rating* - User Rating of the book (datatype - float)\n",
    "   - *Reviews* - number of reviews for the book (datatype - integer)\n",
    "   - *Price*   - price of the book (datatype - integer)\n",
    "   - *Year*  - Year when it was a bestseller(datatype - integer)\n",
    "   - *Genre* -  Categorised as Fiction and non fiction (datatype - object)  \n",
    "* **No Null Values seen in the dataset.**\n",
    "* **We find that price of 9 books are zero and maximum book price is 105.**\n",
    "* **There are 351 unique books and 248 unique authors.**\n",
    "* **Total number of reviews of books are 65,74,305 and 2 genres - Fiction and non Fiction.**\n"
   ]
  },
  {
   "cell_type": "markdown",
   "id": "4d424ed1",
   "metadata": {
    "papermill": {
     "duration": 0.06099,
     "end_time": "2022-05-09T07:14:04.514661",
     "exception": false,
     "start_time": "2022-05-09T07:14:04.453671",
     "status": "completed"
    },
    "tags": []
   },
   "source": [
    "# What is the Genre wise split up ?"
   ]
  },
  {
   "cell_type": "code",
   "execution_count": 19,
   "id": "0166582f",
   "metadata": {
    "execution": {
     "iopub.execute_input": "2022-05-09T07:14:04.638456Z",
     "iopub.status.busy": "2022-05-09T07:14:04.637887Z",
     "iopub.status.idle": "2022-05-09T07:14:04.644799Z",
     "shell.execute_reply": "2022-05-09T07:14:04.644099Z"
    },
    "papermill": {
     "duration": 0.071031,
     "end_time": "2022-05-09T07:14:04.646825",
     "exception": false,
     "start_time": "2022-05-09T07:14:04.575794",
     "status": "completed"
    },
    "tags": []
   },
   "outputs": [
    {
     "data": {
      "text/plain": [
       "Non Fiction    310\n",
       "Fiction        240\n",
       "Name: Genre, dtype: int64"
      ]
     },
     "execution_count": 19,
     "metadata": {},
     "output_type": "execute_result"
    }
   ],
   "source": [
    "df[\"Genre\"].value_counts()"
   ]
  },
  {
   "cell_type": "code",
   "execution_count": 20,
   "id": "1b693e7e",
   "metadata": {
    "execution": {
     "iopub.execute_input": "2022-05-09T07:14:04.771459Z",
     "iopub.status.busy": "2022-05-09T07:14:04.770935Z",
     "iopub.status.idle": "2022-05-09T07:14:04.778297Z",
     "shell.execute_reply": "2022-05-09T07:14:04.777477Z"
    },
    "papermill": {
     "duration": 0.071823,
     "end_time": "2022-05-09T07:14:04.780121",
     "exception": false,
     "start_time": "2022-05-09T07:14:04.708298",
     "status": "completed"
    },
    "tags": []
   },
   "outputs": [
    {
     "data": {
      "text/plain": [
       "Non Fiction    0.563636\n",
       "Fiction        0.436364\n",
       "Name: Genre, dtype: float64"
      ]
     },
     "execution_count": 20,
     "metadata": {},
     "output_type": "execute_result"
    }
   ],
   "source": [
    "df[\"Genre\"].value_counts(normalize =True)"
   ]
  },
  {
   "cell_type": "code",
   "execution_count": 22,
   "id": "1311b7e7",
   "metadata": {
    "_kg_hide-input": true,
    "execution": {
     "iopub.execute_input": "2022-05-09T07:14:04.905129Z",
     "iopub.status.busy": "2022-05-09T07:14:04.904694Z",
     "iopub.status.idle": "2022-05-09T07:14:05.109987Z",
     "shell.execute_reply": "2022-05-09T07:14:05.108853Z"
    },
    "papermill": {
     "duration": 0.272534,
     "end_time": "2022-05-09T07:14:05.114308",
     "exception": false,
     "start_time": "2022-05-09T07:14:04.841774",
     "status": "completed"
    },
    "tags": []
   },
   "outputs": [
    {
     "data": {
      "image/png": "[encoded data removed]",
      "text/plain": [
       "<Figure size 504x504 with 1 Axes>"
      ]
     },
     "metadata": {},
     "output_type": "display_data"
    }
   ],
   "source": [
    "plt.figure(figsize=(7,7), facecolor = \"#dbd8d1\")\n",
    "(df[\"Genre\"].value_counts()/len(df[\"Genre\"]) *100).plot.pie(explode=(0, 0.15), colors =[\"#e28743\",\"#21130d\"],\n",
    "                       startangle=270,autopct='%1.1f%%',textprops={'color':\"#873e23\"},fontsize=16)\n",
    "plt.xlabel(\"Genre\",color=\"black\", fontsize=15);"
   ]
  },
  {
   "cell_type": "markdown",
   "id": "48b5d6c9",
   "metadata": {
    "papermill": {
     "duration": 0.063129,
     "end_time": "2022-05-09T07:14:05.260873",
     "exception": false,
     "start_time": "2022-05-09T07:14:05.197744",
     "status": "completed"
    },
    "tags": []
   },
   "source": [
    "# How is the Numerical data distributed?"
   ]
  },
  {
   "cell_type": "code",
   "execution_count": 23,
   "id": "858fd933",
   "metadata": {
    "execution": {
     "iopub.execute_input": "2022-05-09T07:14:05.389877Z",
     "iopub.status.busy": "2022-05-09T07:14:05.389344Z",
     "iopub.status.idle": "2022-05-09T07:14:06.453515Z",
     "shell.execute_reply": "2022-05-09T07:14:06.452644Z"
    },
    "papermill": {
     "duration": 1.131779,
     "end_time": "2022-05-09T07:14:06.456367",
     "exception": false,
     "start_time": "2022-05-09T07:14:05.324588",
     "status": "completed"
    },
    "tags": []
   },
   "outputs": [
    {
     "data": {
      "image/png": "[encoded data removed]",
      "text/plain": [
       "<Figure size 1152x360 with 1 Axes>"
      ]
     },
     "metadata": {},
     "output_type": "display_data"
    },
    {
     "data": {
      "image/png": "[encoded data removed]",
      "text/plain": [
       "<Figure size 1152x360 with 1 Axes>"
      ]
     },
     "metadata": {},
     "output_type": "display_data"
    },
    {
     "data": {
      "image/png": "[encoded data removed]",
      "text/plain": [
       "<Figure size 1152x360 with 1 Axes>"
      ]
     },
     "metadata": {},
     "output_type": "display_data"
    }
   ],
   "source": [
    "plt.suptitle(\"Distribution of numerical data\",fontsize =24,y=1.05)\n",
    "\n",
    "for col in df.columns[2:5]:\n",
    "    df[col].plot(kind =\"hist\", bins =20,figsize =(16,5), edgecolor =\"#e28743\",color =\"#eab676\")\n",
    "    plt.axvline(df[col].mean(),c =\"#81200c\",ls= '-.',label =\"mean\",lw=2, alpha =0.6)\n",
    "    plt.axvline(df[col].median(),c =\"#1e81b0\",ls= '--',label =\"median\",lw=2, alpha =0.6)\n",
    "    plt.xlabel(col, fontsize = 15)\n",
    "    plt.title(\"Frequency Distribution of \"+ col, fontsize = 15, loc=\"left\")\n",
    "    plt.legend()\n",
    "    plt.show()\n"
   ]
  },
  {
   "cell_type": "markdown",
   "id": "1ae9466b",
   "metadata": {
    "papermill": {
     "duration": 0.078548,
     "end_time": "2022-05-09T07:14:10.676218",
     "exception": false,
     "start_time": "2022-05-09T07:14:10.597670",
     "status": "completed"
    },
    "tags": []
   },
   "source": [
    "# Genre Wise Distribution of Data"
   ]
  },
  {
   "cell_type": "code",
   "execution_count": 24,
   "id": "08d4891f",
   "metadata": {
    "_kg_hide-input": true,
    "execution": {
     "iopub.execute_input": "2022-05-09T07:14:10.835890Z",
     "iopub.status.busy": "2022-05-09T07:14:10.835398Z",
     "iopub.status.idle": "2022-05-09T07:14:11.758835Z",
     "shell.execute_reply": "2022-05-09T07:14:11.757861Z"
    },
    "papermill": {
     "duration": 1.006047,
     "end_time": "2022-05-09T07:14:11.761452",
     "exception": false,
     "start_time": "2022-05-09T07:14:10.755405",
     "status": "completed"
    },
    "tags": []
   },
   "outputs": [
    {
     "data": {
      "image/png": "[encoded data removed]",
      "text/plain": [
       "<Figure size 1296x360 with 1 Axes>"
      ]
     },
     "metadata": {},
     "output_type": "display_data"
    },
    {
     "data": {
      "image/png": "[encoded data removed]",
      "text/plain": [
       "<Figure size 1296x360 with 1 Axes>"
      ]
     },
     "metadata": {},
     "output_type": "display_data"
    },
    {
     "data": {
      "image/png": "[encoded data removed]",
      "text/plain": [
       "<Figure size 1296x360 with 1 Axes>"
      ]
     },
     "metadata": {},
     "output_type": "display_data"
    }
   ],
   "source": [
    "for col in df.columns[2:5]:\n",
    "    plt.figure(figsize = (18,5))\n",
    "    sns.boxplot(data =df,x = col,y =\"Genre\",palette=[\"#e28743\",\"#81200c\"])\n",
    "    plt.title(\"Genre-wise Distribution of \"+ col, fontsize = 18)\n",
    "    plt.ylabel(\"Genre\", fontsize = 15)\n",
    "    plt.xlabel(col,fontsize = 15)\n",
    "    plt.show()"
   ]
  },
  {
   "cell_type": "markdown",
   "id": "b7639233",
   "metadata": {
    "papermill": {
     "duration": 0.082736,
     "end_time": "2022-05-09T07:14:11.927705",
     "exception": false,
     "start_time": "2022-05-09T07:14:11.844969",
     "status": "completed"
    },
    "tags": []
   },
   "source": [
    "### Mean User Rating & Total number of Reviews:\n",
    "\n",
    " * __Fiction Genre has higher user rating and number of reviews than Non Fiction.__\n",
    "  \n",
    "\n",
    "### Average Price of a book:\n",
    "* __Dropped from 15 USD levels to around 10 USD in the span of 2009-2019.__\n",
    "​"
   ]
  },
  {
   "cell_type": "markdown",
   "id": "e670ecec",
   "metadata": {
    "papermill": {
     "duration": 0.067794,
     "end_time": "2022-05-09T07:14:06.592792",
     "exception": false,
     "start_time": "2022-05-09T07:14:06.524998",
     "status": "completed"
    },
    "tags": []
   },
   "source": [
    "### Lowest Rated book"
   ]
  },
  {
   "cell_type": "code",
   "execution_count": 25,
   "id": "4a197c50",
   "metadata": {
    "_kg_hide-input": true,
    "execution": {
     "iopub.execute_input": "2022-05-09T07:14:06.735546Z",
     "iopub.status.busy": "2022-05-09T07:14:06.735053Z",
     "iopub.status.idle": "2022-05-09T07:14:06.748225Z",
     "shell.execute_reply": "2022-05-09T07:14:06.747488Z"
    },
    "papermill": {
     "duration": 0.089658,
     "end_time": "2022-05-09T07:14:06.750356",
     "exception": false,
     "start_time": "2022-05-09T07:14:06.660698",
     "status": "completed"
    },
    "tags": []
   },
   "outputs": [
    {
     "data": {
      "text/html": [
       "<div>\n",
       "<style scoped>\n",
       "    .dataframe tbody tr th:only-of-type {\n",
       "        vertical-align: middle;\n",
       "    }\n",
       "\n",
       "    .dataframe tbody tr th {\n",
       "        vertical-align: top;\n",
       "    }\n",
       "\n",
       "    .dataframe thead th {\n",
       "        text-align: right;\n",
       "    }\n",
       "</style>\n",
       "<table border=\"1\" class=\"dataframe\">\n",
       "  <thead>\n",
       "    <tr style=\"text-align: right;\">\n",
       "      <th></th>\n",
       "      <th>Name</th>\n",
       "      <th>Author</th>\n",
       "      <th>User Rating</th>\n",
       "      <th>Reviews</th>\n",
       "      <th>Price</th>\n",
       "      <th>Year</th>\n",
       "      <th>Genre</th>\n",
       "    </tr>\n",
       "  </thead>\n",
       "  <tbody>\n",
       "    <tr>\n",
       "      <th>353</th>\n",
       "      <td>The Casual Vacancy</td>\n",
       "      <td>J.K. Rowling</td>\n",
       "      <td>3.3</td>\n",
       "      <td>9372</td>\n",
       "      <td>12</td>\n",
       "      <td>2012</td>\n",
       "      <td>Fiction</td>\n",
       "    </tr>\n",
       "  </tbody>\n",
       "</table>\n",
       "</div>"
      ],
      "text/plain": [
       "                   Name        Author  User Rating  Reviews  Price  Year  \\\n",
       "353  The Casual Vacancy  J.K. Rowling          3.3     9372     12  2012   \n",
       "\n",
       "       Genre  \n",
       "353  Fiction  "
      ]
     },
     "execution_count": 25,
     "metadata": {},
     "output_type": "execute_result"
    }
   ],
   "source": [
    "lowest_rated = df[df[\"User Rating\"]==df[\"User Rating\"].min()]\n",
    "lowest_rated"
   ]
  },
  {
   "cell_type": "markdown",
   "id": "b0dd3a46",
   "metadata": {
    "papermill": {
     "duration": 0.068065,
     "end_time": "2022-05-09T07:14:06.886775",
     "exception": false,
     "start_time": "2022-05-09T07:14:06.818710",
     "status": "completed"
    },
    "tags": []
   },
   "source": [
    "### Highest Rated book"
   ]
  },
  {
   "cell_type": "code",
   "execution_count": 26,
   "id": "85aadcbb",
   "metadata": {
    "_kg_hide-input": true,
    "execution": {
     "iopub.execute_input": "2022-05-09T07:14:07.054306Z",
     "iopub.status.busy": "2022-05-09T07:14:07.053707Z",
     "iopub.status.idle": "2022-05-09T07:14:07.084434Z",
     "shell.execute_reply": "2022-05-09T07:14:07.083428Z"
    },
    "papermill": {
     "duration": 0.114356,
     "end_time": "2022-05-09T07:14:07.086980",
     "exception": false,
     "start_time": "2022-05-09T07:14:06.972624",
     "status": "completed"
    },
    "tags": []
   },
   "outputs": [
    {
     "data": {
      "text/html": [
       "<div>\n",
       "<style scoped>\n",
       "    .dataframe tbody tr th:only-of-type {\n",
       "        vertical-align: middle;\n",
       "    }\n",
       "\n",
       "    .dataframe tbody tr th {\n",
       "        vertical-align: top;\n",
       "    }\n",
       "\n",
       "    .dataframe thead th {\n",
       "        text-align: right;\n",
       "    }\n",
       "</style>\n",
       "<table border=\"1\" class=\"dataframe\">\n",
       "  <thead>\n",
       "    <tr style=\"text-align: right;\">\n",
       "      <th></th>\n",
       "      <th>Name</th>\n",
       "      <th>Author</th>\n",
       "      <th>User Rating</th>\n",
       "      <th>Reviews</th>\n",
       "      <th>Price</th>\n",
       "      <th>Year</th>\n",
       "      <th>Genre</th>\n",
       "    </tr>\n",
       "  </thead>\n",
       "  <tbody>\n",
       "    <tr>\n",
       "      <th>40</th>\n",
       "      <td>Brown Bear, Brown Bear, What Do You See?</td>\n",
       "      <td>Bill Martin Jr.</td>\n",
       "      <td>4.9</td>\n",
       "      <td>14344</td>\n",
       "      <td>5</td>\n",
       "      <td>2017</td>\n",
       "      <td>Fiction</td>\n",
       "    </tr>\n",
       "    <tr>\n",
       "      <th>81</th>\n",
       "      <td>Dog Man and Cat Kid: From the Creator of Capta...</td>\n",
       "      <td>Dav Pilkey</td>\n",
       "      <td>4.9</td>\n",
       "      <td>5062</td>\n",
       "      <td>6</td>\n",
       "      <td>2018</td>\n",
       "      <td>Fiction</td>\n",
       "    </tr>\n",
       "    <tr>\n",
       "      <th>82</th>\n",
       "      <td>Dog Man: A Tale of Two Kitties: From the Creat...</td>\n",
       "      <td>Dav Pilkey</td>\n",
       "      <td>4.9</td>\n",
       "      <td>4786</td>\n",
       "      <td>8</td>\n",
       "      <td>2017</td>\n",
       "      <td>Fiction</td>\n",
       "    </tr>\n",
       "    <tr>\n",
       "      <th>83</th>\n",
       "      <td>Dog Man: Brawl of the Wild: From the Creator o...</td>\n",
       "      <td>Dav Pilkey</td>\n",
       "      <td>4.9</td>\n",
       "      <td>7235</td>\n",
       "      <td>4</td>\n",
       "      <td>2018</td>\n",
       "      <td>Fiction</td>\n",
       "    </tr>\n",
       "    <tr>\n",
       "      <th>85</th>\n",
       "      <td>Dog Man: Fetch-22: From the Creator of Captain...</td>\n",
       "      <td>Dav Pilkey</td>\n",
       "      <td>4.9</td>\n",
       "      <td>12619</td>\n",
       "      <td>8</td>\n",
       "      <td>2019</td>\n",
       "      <td>Fiction</td>\n",
       "    </tr>\n",
       "    <tr>\n",
       "      <th>86</th>\n",
       "      <td>Dog Man: For Whom the Ball Rolls: From the Cre...</td>\n",
       "      <td>Dav Pilkey</td>\n",
       "      <td>4.9</td>\n",
       "      <td>9089</td>\n",
       "      <td>8</td>\n",
       "      <td>2019</td>\n",
       "      <td>Fiction</td>\n",
       "    </tr>\n",
       "    <tr>\n",
       "      <th>87</th>\n",
       "      <td>Dog Man: Lord of the Fleas: From the Creator o...</td>\n",
       "      <td>Dav Pilkey</td>\n",
       "      <td>4.9</td>\n",
       "      <td>5470</td>\n",
       "      <td>6</td>\n",
       "      <td>2018</td>\n",
       "      <td>Fiction</td>\n",
       "    </tr>\n",
       "    <tr>\n",
       "      <th>146</th>\n",
       "      <td>Goodnight, Goodnight Construction Site (Hardco...</td>\n",
       "      <td>Sherri Duskey Rinker</td>\n",
       "      <td>4.9</td>\n",
       "      <td>7038</td>\n",
       "      <td>7</td>\n",
       "      <td>2012</td>\n",
       "      <td>Fiction</td>\n",
       "    </tr>\n",
       "    <tr>\n",
       "      <th>151</th>\n",
       "      <td>Hamilton: The Revolution</td>\n",
       "      <td>Lin-Manuel Miranda</td>\n",
       "      <td>4.9</td>\n",
       "      <td>5867</td>\n",
       "      <td>54</td>\n",
       "      <td>2016</td>\n",
       "      <td>Non Fiction</td>\n",
       "    </tr>\n",
       "    <tr>\n",
       "      <th>153</th>\n",
       "      <td>Harry Potter and the Chamber of Secrets: The I...</td>\n",
       "      <td>J.K. Rowling</td>\n",
       "      <td>4.9</td>\n",
       "      <td>19622</td>\n",
       "      <td>30</td>\n",
       "      <td>2016</td>\n",
       "      <td>Fiction</td>\n",
       "    </tr>\n",
       "    <tr>\n",
       "      <th>155</th>\n",
       "      <td>Harry Potter and the Goblet of Fire: The Illus...</td>\n",
       "      <td>J. K. Rowling</td>\n",
       "      <td>4.9</td>\n",
       "      <td>7758</td>\n",
       "      <td>18</td>\n",
       "      <td>2019</td>\n",
       "      <td>Fiction</td>\n",
       "    </tr>\n",
       "    <tr>\n",
       "      <th>156</th>\n",
       "      <td>Harry Potter and the Prisoner of Azkaban: The ...</td>\n",
       "      <td>J.K. Rowling</td>\n",
       "      <td>4.9</td>\n",
       "      <td>3146</td>\n",
       "      <td>30</td>\n",
       "      <td>2017</td>\n",
       "      <td>Fiction</td>\n",
       "    </tr>\n",
       "    <tr>\n",
       "      <th>157</th>\n",
       "      <td>Harry Potter and the Sorcerer's Stone: The Ill...</td>\n",
       "      <td>J.K. Rowling</td>\n",
       "      <td>4.9</td>\n",
       "      <td>10052</td>\n",
       "      <td>22</td>\n",
       "      <td>2016</td>\n",
       "      <td>Fiction</td>\n",
       "    </tr>\n",
       "    <tr>\n",
       "      <th>174</th>\n",
       "      <td>Humans of New York : Stories</td>\n",
       "      <td>Brandon Stanton</td>\n",
       "      <td>4.9</td>\n",
       "      <td>2812</td>\n",
       "      <td>17</td>\n",
       "      <td>2015</td>\n",
       "      <td>Non Fiction</td>\n",
       "    </tr>\n",
       "    <tr>\n",
       "      <th>187</th>\n",
       "      <td>Jesus Calling: Enjoying Peace in His Presence ...</td>\n",
       "      <td>Sarah Young</td>\n",
       "      <td>4.9</td>\n",
       "      <td>19576</td>\n",
       "      <td>8</td>\n",
       "      <td>2011</td>\n",
       "      <td>Non Fiction</td>\n",
       "    </tr>\n",
       "    <tr>\n",
       "      <th>207</th>\n",
       "      <td>Last Week Tonight with John Oliver Presents A ...</td>\n",
       "      <td>Jill Twiss</td>\n",
       "      <td>4.9</td>\n",
       "      <td>11881</td>\n",
       "      <td>13</td>\n",
       "      <td>2018</td>\n",
       "      <td>Fiction</td>\n",
       "    </tr>\n",
       "    <tr>\n",
       "      <th>219</th>\n",
       "      <td>Little Blue Truck</td>\n",
       "      <td>Alice Schertle</td>\n",
       "      <td>4.9</td>\n",
       "      <td>1884</td>\n",
       "      <td>0</td>\n",
       "      <td>2014</td>\n",
       "      <td>Fiction</td>\n",
       "    </tr>\n",
       "    <tr>\n",
       "      <th>244</th>\n",
       "      <td>Obama: An Intimate Portrait</td>\n",
       "      <td>Pete Souza</td>\n",
       "      <td>4.9</td>\n",
       "      <td>3192</td>\n",
       "      <td>22</td>\n",
       "      <td>2017</td>\n",
       "      <td>Non Fiction</td>\n",
       "    </tr>\n",
       "    <tr>\n",
       "      <th>245</th>\n",
       "      <td>Oh, the Places You'll Go!</td>\n",
       "      <td>Dr. Seuss</td>\n",
       "      <td>4.9</td>\n",
       "      <td>21834</td>\n",
       "      <td>8</td>\n",
       "      <td>2012</td>\n",
       "      <td>Fiction</td>\n",
       "    </tr>\n",
       "    <tr>\n",
       "      <th>288</th>\n",
       "      <td>Rush Revere and the Brave Pilgrims: Time-Trave...</td>\n",
       "      <td>Rush Limbaugh</td>\n",
       "      <td>4.9</td>\n",
       "      <td>7150</td>\n",
       "      <td>12</td>\n",
       "      <td>2013</td>\n",
       "      <td>Fiction</td>\n",
       "    </tr>\n",
       "    <tr>\n",
       "      <th>289</th>\n",
       "      <td>Rush Revere and the First Patriots: Time-Trave...</td>\n",
       "      <td>Rush Limbaugh</td>\n",
       "      <td>4.9</td>\n",
       "      <td>3836</td>\n",
       "      <td>12</td>\n",
       "      <td>2014</td>\n",
       "      <td>Fiction</td>\n",
       "    </tr>\n",
       "    <tr>\n",
       "      <th>303</th>\n",
       "      <td>Strange Planet (Strange Planet Series)</td>\n",
       "      <td>Nathan W. Pyle</td>\n",
       "      <td>4.9</td>\n",
       "      <td>9382</td>\n",
       "      <td>6</td>\n",
       "      <td>2019</td>\n",
       "      <td>Fiction</td>\n",
       "    </tr>\n",
       "    <tr>\n",
       "      <th>420</th>\n",
       "      <td>The Legend of Zelda: Hyrule Historia</td>\n",
       "      <td>Patrick Thorpe</td>\n",
       "      <td>4.9</td>\n",
       "      <td>5396</td>\n",
       "      <td>20</td>\n",
       "      <td>2013</td>\n",
       "      <td>Fiction</td>\n",
       "    </tr>\n",
       "    <tr>\n",
       "      <th>431</th>\n",
       "      <td>The Magnolia Story</td>\n",
       "      <td>Chip Gaines</td>\n",
       "      <td>4.9</td>\n",
       "      <td>7861</td>\n",
       "      <td>5</td>\n",
       "      <td>2016</td>\n",
       "      <td>Non Fiction</td>\n",
       "    </tr>\n",
       "    <tr>\n",
       "      <th>476</th>\n",
       "      <td>The Very Hungry Caterpillar</td>\n",
       "      <td>Eric Carle</td>\n",
       "      <td>4.9</td>\n",
       "      <td>19546</td>\n",
       "      <td>5</td>\n",
       "      <td>2013</td>\n",
       "      <td>Fiction</td>\n",
       "    </tr>\n",
       "    <tr>\n",
       "      <th>486</th>\n",
       "      <td>The Wonderful Things You Will Be</td>\n",
       "      <td>Emily Winfield Martin</td>\n",
       "      <td>4.9</td>\n",
       "      <td>8842</td>\n",
       "      <td>10</td>\n",
       "      <td>2016</td>\n",
       "      <td>Fiction</td>\n",
       "    </tr>\n",
       "    <tr>\n",
       "      <th>521</th>\n",
       "      <td>Unfreedom of the Press</td>\n",
       "      <td>Mark R. Levin</td>\n",
       "      <td>4.9</td>\n",
       "      <td>5956</td>\n",
       "      <td>11</td>\n",
       "      <td>2019</td>\n",
       "      <td>Non Fiction</td>\n",
       "    </tr>\n",
       "    <tr>\n",
       "      <th>545</th>\n",
       "      <td>Wrecking Ball (Diary of a Wimpy Kid Book 14)</td>\n",
       "      <td>Jeff Kinney</td>\n",
       "      <td>4.9</td>\n",
       "      <td>9413</td>\n",
       "      <td>8</td>\n",
       "      <td>2019</td>\n",
       "      <td>Fiction</td>\n",
       "    </tr>\n",
       "  </tbody>\n",
       "</table>\n",
       "</div>"
      ],
      "text/plain": [
       "                                                  Name                 Author  \\\n",
       "40            Brown Bear, Brown Bear, What Do You See?        Bill Martin Jr.   \n",
       "81   Dog Man and Cat Kid: From the Creator of Capta...             Dav Pilkey   \n",
       "82   Dog Man: A Tale of Two Kitties: From the Creat...             Dav Pilkey   \n",
       "83   Dog Man: Brawl of the Wild: From the Creator o...             Dav Pilkey   \n",
       "85   Dog Man: Fetch-22: From the Creator of Captain...             Dav Pilkey   \n",
       "86   Dog Man: For Whom the Ball Rolls: From the Cre...             Dav Pilkey   \n",
       "87   Dog Man: Lord of the Fleas: From the Creator o...             Dav Pilkey   \n",
       "146  Goodnight, Goodnight Construction Site (Hardco...   Sherri Duskey Rinker   \n",
       "151                           Hamilton: The Revolution     Lin-Manuel Miranda   \n",
       "153  Harry Potter and the Chamber of Secrets: The I...           J.K. Rowling   \n",
       "155  Harry Potter and the Goblet of Fire: The Illus...          J. K. Rowling   \n",
       "156  Harry Potter and the Prisoner of Azkaban: The ...           J.K. Rowling   \n",
       "157  Harry Potter and the Sorcerer's Stone: The Ill...           J.K. Rowling   \n",
       "174                       Humans of New York : Stories        Brandon Stanton   \n",
       "187  Jesus Calling: Enjoying Peace in His Presence ...            Sarah Young   \n",
       "207  Last Week Tonight with John Oliver Presents A ...             Jill Twiss   \n",
       "219                                  Little Blue Truck         Alice Schertle   \n",
       "244                        Obama: An Intimate Portrait             Pete Souza   \n",
       "245                          Oh, the Places You'll Go!              Dr. Seuss   \n",
       "288  Rush Revere and the Brave Pilgrims: Time-Trave...          Rush Limbaugh   \n",
       "289  Rush Revere and the First Patriots: Time-Trave...          Rush Limbaugh   \n",
       "303             Strange Planet (Strange Planet Series)         Nathan W. Pyle   \n",
       "420               The Legend of Zelda: Hyrule Historia         Patrick Thorpe   \n",
       "431                                 The Magnolia Story            Chip Gaines   \n",
       "476                        The Very Hungry Caterpillar             Eric Carle   \n",
       "486                   The Wonderful Things You Will Be  Emily Winfield Martin   \n",
       "521                             Unfreedom of the Press          Mark R. Levin   \n",
       "545       Wrecking Ball (Diary of a Wimpy Kid Book 14)            Jeff Kinney   \n",
       "\n",
       "     User Rating  Reviews  Price  Year        Genre  \n",
       "40           4.9    14344      5  2017      Fiction  \n",
       "81           4.9     5062      6  2018      Fiction  \n",
       "82           4.9     4786      8  2017      Fiction  \n",
       "83           4.9     7235      4  2018      Fiction  \n",
       "85           4.9    12619      8  2019      Fiction  \n",
       "86           4.9     9089      8  2019      Fiction  \n",
       "87           4.9     5470      6  2018      Fiction  \n",
       "146          4.9     7038      7  2012      Fiction  \n",
       "151          4.9     5867     54  2016  Non Fiction  \n",
       "153          4.9    19622     30  2016      Fiction  \n",
       "155          4.9     7758     18  2019      Fiction  \n",
       "156          4.9     3146     30  2017      Fiction  \n",
       "157          4.9    10052     22  2016      Fiction  \n",
       "174          4.9     2812     17  2015  Non Fiction  \n",
       "187          4.9    19576      8  2011  Non Fiction  \n",
       "207          4.9    11881     13  2018      Fiction  \n",
       "219          4.9     1884      0  2014      Fiction  \n",
       "244          4.9     3192     22  2017  Non Fiction  \n",
       "245          4.9    21834      8  2012      Fiction  \n",
       "288          4.9     7150     12  2013      Fiction  \n",
       "289          4.9     3836     12  2014      Fiction  \n",
       "303          4.9     9382      6  2019      Fiction  \n",
       "420          4.9     5396     20  2013      Fiction  \n",
       "431          4.9     7861      5  2016  Non Fiction  \n",
       "476          4.9    19546      5  2013      Fiction  \n",
       "486          4.9     8842     10  2016      Fiction  \n",
       "521          4.9     5956     11  2019  Non Fiction  \n",
       "545          4.9     9413      8  2019      Fiction  "
      ]
     },
     "execution_count": 26,
     "metadata": {},
     "output_type": "execute_result"
    }
   ],
   "source": [
    "highest_rated =df[df[\"User Rating\"]==df[\"User Rating\"].max()].drop_duplicates(\"Name\")\n",
    "highest_rated"
   ]
  },
  {
   "cell_type": "markdown",
   "id": "fb93372a",
   "metadata": {
    "papermill": {
     "duration": 0.079539,
     "end_time": "2022-05-09T07:14:07.250902",
     "exception": false,
     "start_time": "2022-05-09T07:14:07.171363",
     "status": "completed"
    },
    "tags": []
   },
   "source": [
    "### Max Reviews"
   ]
  },
  {
   "cell_type": "code",
   "execution_count": 27,
   "id": "87f3c40a",
   "metadata": {
    "_kg_hide-input": true,
    "execution": {
     "iopub.execute_input": "2022-05-09T07:14:07.429280Z",
     "iopub.status.busy": "2022-05-09T07:14:07.428671Z",
     "iopub.status.idle": "2022-05-09T07:14:07.443204Z",
     "shell.execute_reply": "2022-05-09T07:14:07.441997Z"
    },
    "papermill": {
     "duration": 0.108791,
     "end_time": "2022-05-09T07:14:07.445818",
     "exception": false,
     "start_time": "2022-05-09T07:14:07.337027",
     "status": "completed"
    },
    "tags": []
   },
   "outputs": [
    {
     "data": {
      "text/html": [
       "<div>\n",
       "<style scoped>\n",
       "    .dataframe tbody tr th:only-of-type {\n",
       "        vertical-align: middle;\n",
       "    }\n",
       "\n",
       "    .dataframe tbody tr th {\n",
       "        vertical-align: top;\n",
       "    }\n",
       "\n",
       "    .dataframe thead th {\n",
       "        text-align: right;\n",
       "    }\n",
       "</style>\n",
       "<table border=\"1\" class=\"dataframe\">\n",
       "  <thead>\n",
       "    <tr style=\"text-align: right;\">\n",
       "      <th></th>\n",
       "      <th>Name</th>\n",
       "      <th>Author</th>\n",
       "      <th>User Rating</th>\n",
       "      <th>Reviews</th>\n",
       "      <th>Price</th>\n",
       "      <th>Year</th>\n",
       "      <th>Genre</th>\n",
       "    </tr>\n",
       "  </thead>\n",
       "  <tbody>\n",
       "    <tr>\n",
       "      <th>534</th>\n",
       "      <td>Where the Crawdads Sing</td>\n",
       "      <td>Delia Owens</td>\n",
       "      <td>4.8</td>\n",
       "      <td>87841</td>\n",
       "      <td>15</td>\n",
       "      <td>2019</td>\n",
       "      <td>Fiction</td>\n",
       "    </tr>\n",
       "  </tbody>\n",
       "</table>\n",
       "</div>"
      ],
      "text/plain": [
       "                        Name       Author  User Rating  Reviews  Price  Year  \\\n",
       "534  Where the Crawdads Sing  Delia Owens          4.8    87841     15  2019   \n",
       "\n",
       "       Genre  \n",
       "534  Fiction  "
      ]
     },
     "execution_count": 27,
     "metadata": {},
     "output_type": "execute_result"
    }
   ],
   "source": [
    "df[df[\"Reviews\"]==df[\"Reviews\"].max()]"
   ]
  },
  {
   "cell_type": "markdown",
   "id": "27b6925b",
   "metadata": {
    "papermill": {
     "duration": 0.075176,
     "end_time": "2022-05-09T07:14:07.595394",
     "exception": false,
     "start_time": "2022-05-09T07:14:07.520218",
     "status": "completed"
    },
    "tags": []
   },
   "source": [
    "### Minimum Reviews for a book"
   ]
  },
  {
   "cell_type": "code",
   "execution_count": 28,
   "id": "f721b642",
   "metadata": {
    "_kg_hide-input": true,
    "execution": {
     "iopub.execute_input": "2022-05-09T07:14:07.761208Z",
     "iopub.status.busy": "2022-05-09T07:14:07.760900Z",
     "iopub.status.idle": "2022-05-09T07:14:07.775183Z",
     "shell.execute_reply": "2022-05-09T07:14:07.773995Z"
    },
    "papermill": {
     "duration": 0.090091,
     "end_time": "2022-05-09T07:14:07.777553",
     "exception": false,
     "start_time": "2022-05-09T07:14:07.687462",
     "status": "completed"
    },
    "tags": []
   },
   "outputs": [
    {
     "data": {
      "text/html": [
       "<div>\n",
       "<style scoped>\n",
       "    .dataframe tbody tr th:only-of-type {\n",
       "        vertical-align: middle;\n",
       "    }\n",
       "\n",
       "    .dataframe tbody tr th {\n",
       "        vertical-align: top;\n",
       "    }\n",
       "\n",
       "    .dataframe thead th {\n",
       "        text-align: right;\n",
       "    }\n",
       "</style>\n",
       "<table border=\"1\" class=\"dataframe\">\n",
       "  <thead>\n",
       "    <tr style=\"text-align: right;\">\n",
       "      <th></th>\n",
       "      <th>Name</th>\n",
       "      <th>Author</th>\n",
       "      <th>User Rating</th>\n",
       "      <th>Reviews</th>\n",
       "      <th>Price</th>\n",
       "      <th>Year</th>\n",
       "      <th>Genre</th>\n",
       "    </tr>\n",
       "  </thead>\n",
       "  <tbody>\n",
       "    <tr>\n",
       "      <th>78</th>\n",
       "      <td>Divine Soul Mind Body Healing and Transmission...</td>\n",
       "      <td>Zhi Gang Sha</td>\n",
       "      <td>4.6</td>\n",
       "      <td>37</td>\n",
       "      <td>6</td>\n",
       "      <td>2009</td>\n",
       "      <td>Non Fiction</td>\n",
       "    </tr>\n",
       "  </tbody>\n",
       "</table>\n",
       "</div>"
      ],
      "text/plain": [
       "                                                 Name        Author  \\\n",
       "78  Divine Soul Mind Body Healing and Transmission...  Zhi Gang Sha   \n",
       "\n",
       "    User Rating  Reviews  Price  Year        Genre  \n",
       "78          4.6       37      6  2009  Non Fiction  "
      ]
     },
     "execution_count": 28,
     "metadata": {},
     "output_type": "execute_result"
    }
   ],
   "source": [
    "df[df[\"Reviews\"]==df[\"Reviews\"].min()]"
   ]
  },
  {
   "cell_type": "markdown",
   "id": "b65c4c13",
   "metadata": {
    "papermill": {
     "duration": 0.07832,
     "end_time": "2022-05-09T07:14:08.866440",
     "exception": false,
     "start_time": "2022-05-09T07:14:08.788120",
     "status": "completed"
    },
    "tags": []
   },
   "source": [
    "### Genre wise split up:\n",
    "\n",
    " * __There are 310 books in Non Fiction, to 240 in Fiction.__\n",
    "\n",
    "### User Rating :\n",
    "\n",
    " * __There are 28 unique books with highest rating of 4.9 (see highest_rated)__\n",
    " * __Mean User Rating is 4.62 & Median User Rating is 4.7__\n",
    " * __Dav Pilkey's \"Dog Man\" series has 6 highest user rated books at 4.9 rating.__\n",
    " \n",
    "### Reviews:\n",
    "* __Max Reviews were for \"There the Crawdads Sing\" by Delia Owens__\n",
    "* __Minimum no of  Reviews were for \"Divine Soul Mind Body Healing and Transmission\" by Zhi Gang Sha__ \n"
   ]
  },
  {
   "cell_type": "markdown",
   "id": "a3233e18",
   "metadata": {
    "papermill": {
     "duration": 0.08158,
     "end_time": "2022-05-09T07:14:09.027843",
     "exception": false,
     "start_time": "2022-05-09T07:14:08.946263",
     "status": "completed"
    },
    "tags": []
   },
   "source": [
    "# How has Average User Rating, Total Reviews and Average Price of books changed over the years?"
   ]
  },
  {
   "cell_type": "code",
   "execution_count": 29,
   "id": "7b14cf7a",
   "metadata": {
    "_kg_hide-input": true,
    "execution": {
     "iopub.execute_input": "2022-05-09T07:14:09.200825Z",
     "iopub.status.busy": "2022-05-09T07:14:09.200191Z",
     "iopub.status.idle": "2022-05-09T07:14:09.228670Z",
     "shell.execute_reply": "2022-05-09T07:14:09.227687Z"
    },
    "papermill": {
     "duration": 0.118015,
     "end_time": "2022-05-09T07:14:09.231056",
     "exception": false,
     "start_time": "2022-05-09T07:14:09.113041",
     "status": "completed"
    },
    "tags": []
   },
   "outputs": [
    {
     "data": {
      "text/html": [
       "<div>\n",
       "<style scoped>\n",
       "    .dataframe tbody tr th:only-of-type {\n",
       "        vertical-align: middle;\n",
       "    }\n",
       "\n",
       "    .dataframe tbody tr th {\n",
       "        vertical-align: top;\n",
       "    }\n",
       "\n",
       "    .dataframe thead th {\n",
       "        text-align: right;\n",
       "    }\n",
       "</style>\n",
       "<table border=\"1\" class=\"dataframe\">\n",
       "  <thead>\n",
       "    <tr style=\"text-align: right;\">\n",
       "      <th></th>\n",
       "      <th>Year</th>\n",
       "      <th>2009</th>\n",
       "      <th>2010</th>\n",
       "      <th>2011</th>\n",
       "      <th>2012</th>\n",
       "      <th>2013</th>\n",
       "      <th>2014</th>\n",
       "      <th>2015</th>\n",
       "      <th>2016</th>\n",
       "      <th>2017</th>\n",
       "      <th>2018</th>\n",
       "      <th>2019</th>\n",
       "    </tr>\n",
       "  </thead>\n",
       "  <tbody>\n",
       "    <tr>\n",
       "      <th>User Rating</th>\n",
       "      <th>mean</th>\n",
       "      <td>4.584</td>\n",
       "      <td>4.558</td>\n",
       "      <td>4.558</td>\n",
       "      <td>4.532</td>\n",
       "      <td>4.554</td>\n",
       "      <td>4.622</td>\n",
       "      <td>4.648</td>\n",
       "      <td>4.678</td>\n",
       "      <td>4.66</td>\n",
       "      <td>4.668</td>\n",
       "      <td>4.74</td>\n",
       "    </tr>\n",
       "    <tr>\n",
       "      <th>Reviews</th>\n",
       "      <th>sum</th>\n",
       "      <td>235506.000</td>\n",
       "      <td>273981.000</td>\n",
       "      <td>405041.000</td>\n",
       "      <td>654546.000</td>\n",
       "      <td>654907.000</td>\n",
       "      <td>792997.000</td>\n",
       "      <td>711669.000</td>\n",
       "      <td>709800.000</td>\n",
       "      <td>644420.00</td>\n",
       "      <td>696521.000</td>\n",
       "      <td>794917.00</td>\n",
       "    </tr>\n",
       "    <tr>\n",
       "      <th>Price</th>\n",
       "      <th>mean</th>\n",
       "      <td>15.400</td>\n",
       "      <td>13.480</td>\n",
       "      <td>15.100</td>\n",
       "      <td>15.300</td>\n",
       "      <td>14.600</td>\n",
       "      <td>14.640</td>\n",
       "      <td>10.420</td>\n",
       "      <td>13.180</td>\n",
       "      <td>11.38</td>\n",
       "      <td>10.520</td>\n",
       "      <td>10.08</td>\n",
       "    </tr>\n",
       "  </tbody>\n",
       "</table>\n",
       "</div>"
      ],
      "text/plain": [
       "Year                    2009        2010        2011        2012        2013  \\\n",
       "User Rating mean       4.584       4.558       4.558       4.532       4.554   \n",
       "Reviews     sum   235506.000  273981.000  405041.000  654546.000  654907.000   \n",
       "Price       mean      15.400      13.480      15.100      15.300      14.600   \n",
       "\n",
       "Year                    2014        2015        2016       2017        2018  \\\n",
       "User Rating mean       4.622       4.648       4.678       4.66       4.668   \n",
       "Reviews     sum   792997.000  711669.000  709800.000  644420.00  696521.000   \n",
       "Price       mean      14.640      10.420      13.180      11.38      10.520   \n",
       "\n",
       "Year                   2019  \n",
       "User Rating mean       4.74  \n",
       "Reviews     sum   794917.00  \n",
       "Price       mean      10.08  "
      ]
     },
     "execution_count": 29,
     "metadata": {},
     "output_type": "execute_result"
    }
   ],
   "source": [
    "df.groupby([\"Year\"]).agg({\"User Rating\":\"mean\",\"Reviews\" :[\"sum\"],\"Price\":[\"mean\"]}).transpose()"
   ]
  },
  {
   "cell_type": "code",
   "execution_count": 30,
   "id": "9ea79f7c",
   "metadata": {
    "execution": {
     "iopub.execute_input": "2022-05-09T07:14:09.385555Z",
     "iopub.status.busy": "2022-05-09T07:14:09.385234Z",
     "iopub.status.idle": "2022-05-09T07:14:09.392729Z",
     "shell.execute_reply": "2022-05-09T07:14:09.391767Z"
    },
    "papermill": {
     "duration": 0.086601,
     "end_time": "2022-05-09T07:14:09.394826",
     "exception": false,
     "start_time": "2022-05-09T07:14:09.308225",
     "status": "completed"
    },
    "tags": []
   },
   "outputs": [
    {
     "data": {
      "text/plain": [
       "[2009, 2010, 2011, 2012, 2013, 2014, 2015, 2016, 2017, 2018, 2019]"
      ]
     },
     "execution_count": 30,
     "metadata": {},
     "output_type": "execute_result"
    }
   ],
   "source": [
    "lst =list((df[\"Year\"].unique()))\n",
    "lst.sort()\n",
    "lst"
   ]
  },
  {
   "cell_type": "code",
   "execution_count": 31,
   "id": "c4221556",
   "metadata": {
    "_kg_hide-input": true,
    "execution": {
     "iopub.execute_input": "2022-05-09T07:14:09.550991Z",
     "iopub.status.busy": "2022-05-09T07:14:09.550348Z",
     "iopub.status.idle": "2022-05-09T07:14:10.354777Z",
     "shell.execute_reply": "2022-05-09T07:14:10.353842Z"
    },
    "papermill": {
     "duration": 0.886349,
     "end_time": "2022-05-09T07:14:10.357963",
     "exception": false,
     "start_time": "2022-05-09T07:14:09.471614",
     "status": "completed"
    },
    "tags": []
   },
   "outputs": [
    {
     "data": {
      "image/png": "[encoded data removed]",
      "text/plain": [
       "<Figure size 1296x864 with 3 Axes>"
      ]
     },
     "metadata": {},
     "output_type": "display_data"
    }
   ],
   "source": [
    "df.groupby([\"Year\"]).agg({\"User Rating\":\"mean\",\"Reviews\" :[\"sum\"],\"Price\":[\"mean\"]}).plot(subplots = True,                                                                                                                                                                                    figsize = (18,12), marker= \"o\", \n",
    "                                                                                          ls = \"--\", lw =2,\n",
    "                                                                                         color = [\"#1e81b0\",\"#81200c\",\"#e28743\"],\n",
    "                                                                                         title=[\"Mean User Rating\",\"Number of Reviews\",\"Mean Price of a book\"])\n",
    "\n",
    "plt.suptitle(\"Year-wise data of Average User Rating, Total Reviews and Average Price of books\", fontsize =20)\n",
    "plt.xticks(lst,fontsize =13);"
   ]
  },
  {
   "cell_type": "markdown",
   "id": "a3a03ad4",
   "metadata": {
    "papermill": {
     "duration": 0.078479,
     "end_time": "2022-05-09T07:14:10.518355",
     "exception": false,
     "start_time": "2022-05-09T07:14:10.439876",
     "status": "completed"
    },
    "tags": []
   },
   "source": [
    "## Observations\n",
    "\n",
    "### Mean User Rating :\n",
    "\n",
    " * __Shows an uptick from 4.5 levels to 4.75 on an average__\n",
    "  \n",
    "### Total number of Reviews:\n",
    "* __Has plateuaed at the range of 65K to 80K, since 2012.__\n",
    "\n",
    "### Average Price of a book:\n",
    "* __Dropped from 15 USD levels to around 10 USD in the span of 2009-2019.__\n"
   ]
  },
  {
   "cell_type": "markdown",
   "id": "7590e53b",
   "metadata": {
    "papermill": {
     "duration": 0.083495,
     "end_time": "2022-05-09T07:14:12.095828",
     "exception": false,
     "start_time": "2022-05-09T07:14:12.012333",
     "status": "completed"
    },
    "tags": []
   },
   "source": [
    "# Year wise + Genre Wise Distribution "
   ]
  },
  {
   "cell_type": "code",
   "execution_count": 32,
   "id": "2629c87b",
   "metadata": {
    "execution": {
     "iopub.execute_input": "2022-05-09T07:14:12.449330Z",
     "iopub.status.busy": "2022-05-09T07:14:12.448869Z",
     "iopub.status.idle": "2022-05-09T07:14:13.491717Z",
     "shell.execute_reply": "2022-05-09T07:14:13.491014Z"
    },
    "papermill": {
     "duration": 1.130049,
     "end_time": "2022-05-09T07:14:13.493761",
     "exception": false,
     "start_time": "2022-05-09T07:14:12.363712",
     "status": "completed"
    },
    "tags": []
   },
   "outputs": [
    {
     "data": {
      "image/png": "[encoded data removed]",
      "text/plain": [
       "<Figure size 1296x576 with 1 Axes>"
      ]
     },
     "metadata": {},
     "output_type": "display_data"
    },
    {
     "data": {
      "image/png": "[encoded data removed]",
      "text/plain": [
       "<Figure size 1296x576 with 1 Axes>"
      ]
     },
     "metadata": {},
     "output_type": "display_data"
    },
    {
     "data": {
      "image/png": "[encoded data removed]",
      "text/plain": [
       "<Figure size 1296x576 with 1 Axes>"
      ]
     },
     "metadata": {},
     "output_type": "display_data"
    }
   ],
   "source": [
    "for col in df.columns[2:5]:\n",
    "    plt.figure(figsize = (18,8))\n",
    "    sns.barplot(data =df,x = \"Year\",y = col,hue =\"Genre\",palette=[\"#e28743\",\"#81200c\"],ci =None)\n",
    "    plt.legend(loc =\"upper left\")\n",
    "    plt.title(\"Genre-wise Distribution of \"+ col + \" (2009- 2019)\", fontsize = 18)\n",
    "    plt.xlabel(\"Year\", fontsize = 15)\n",
    "    plt.ylabel(col,fontsize = 15)\n",
    "    plt.show()"
   ]
  },
  {
   "cell_type": "markdown",
   "id": "cb5a37d4",
   "metadata": {
    "papermill": {
     "duration": 0.087486,
     "end_time": "2022-05-09T07:14:13.864825",
     "exception": false,
     "start_time": "2022-05-09T07:14:13.777339",
     "status": "completed"
    },
    "tags": []
   },
   "source": [
    "### User Rating \n",
    "\n",
    " * __Over the years, Fiction Genre is rated slightly higher Non Fiction.__\n",
    "  \n",
    "### Total number of Reviews:\n",
    "\n",
    "* __Over the years, Fiction Genre has always had more reviews than Non Fiction.__\n",
    "* __However, reviews for Non Fiction has been steadily increasing.__\n",
    "\n",
    "\n",
    "### Average Price of a book:\n",
    "* __Non Fiction books are 50% more expensive at 14.84 USD  than average cost of Fiction books at 10.85 USD.__"
   ]
  },
  {
   "cell_type": "markdown",
   "id": "11364e54",
   "metadata": {
    "papermill": {
     "duration": 0.088637,
     "end_time": "2022-05-09T07:14:14.043933",
     "exception": false,
     "start_time": "2022-05-09T07:14:13.955296",
     "status": "completed"
    },
    "tags": []
   },
   "source": [
    "# Who the top authors and What are their books?"
   ]
  },
  {
   "cell_type": "markdown",
   "id": "e9c3848e",
   "metadata": {
    "papermill": {
     "duration": 0.088496,
     "end_time": "2022-05-09T07:14:14.221031",
     "exception": false,
     "start_time": "2022-05-09T07:14:14.132535",
     "status": "completed"
    },
    "tags": []
   },
   "source": [
    "### Top 15 Authors (both genres combined)"
   ]
  },
  {
   "cell_type": "code",
   "execution_count": 33,
   "id": "08a835df",
   "metadata": {
    "_kg_hide-input": true,
    "execution": {
     "iopub.execute_input": "2022-05-09T07:14:14.417012Z",
     "iopub.status.busy": "2022-05-09T07:14:14.416395Z",
     "iopub.status.idle": "2022-05-09T07:14:14.813388Z",
     "shell.execute_reply": "2022-05-09T07:14:14.812385Z"
    },
    "papermill": {
     "duration": 0.505854,
     "end_time": "2022-05-09T07:14:14.816464",
     "exception": false,
     "start_time": "2022-05-09T07:14:14.310610",
     "status": "completed"
    },
    "tags": []
   },
   "outputs": [
    {
     "data": {
      "image/png": "[encoded data removed]",
      "text/plain": [
       "<Figure size 1296x576 with 1 Axes>"
      ]
     },
     "metadata": {},
     "output_type": "display_data"
    }
   ],
   "source": [
    "df[\"Author\"].value_counts().sort_values(ascending =False)[:15].plot(kind =\"barh\",color =[\"#81200c\",\"#e28743\",\"#fccc89\",\"#eff5ee\"],\n",
    "                                                                 figsize = (18,8),edgecolor =\"#21130d\").invert_yaxis();"
   ]
  },
  {
   "cell_type": "code",
   "execution_count": null,
   "id": "bcab441d",
   "metadata": {},
   "outputs": [],
   "source": []
  }
 ],
 "metadata": {
  "kernelspec": {
   "display_name": "Python 3 (ipykernel)",
   "language": "python",
   "name": "python3"
  },
  "language_info": {
   "codemirror_mode": {
    "name": "ipython",
    "version": 3
   },
   "file_extension": ".py",
   "mimetype": "text/x-python",
   "name": "python",
   "nbconvert_exporter": "python",
   "pygments_lexer": "ipython3",
   "version": "3.9.7"
  },
  "papermill": {
   "default_parameters": {},
   "duration": 30.366652,
   "end_time": "2022-05-09T07:14:19.111507",
   "environment_variables": {},
   "exception": null,
   "input_path": "__notebook__.ipynb",
   "output_path": "__notebook__.ipynb",
   "parameters": {},
   "start_time": "2022-05-09T07:13:48.744855",
   "version": "2.3.4"
  }
 },
 "nbformat": 4,
 "nbformat_minor": 5
}
